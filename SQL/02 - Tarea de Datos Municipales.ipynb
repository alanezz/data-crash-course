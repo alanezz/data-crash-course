{
 "cells": [
  {
   "cell_type": "markdown",
   "id": "8ed6e0f6-64d7-42a7-b728-236c43176a60",
   "metadata": {},
   "source": [
    "# 02 - Tarea de Datos Municipales\n",
    "\n",
    "¡Bienvenido a la tarea de datos municipales! Aquí vas a poner en práctica todo lo que has aprendido hasta ahora. Para comenzar la tarea recuerda importar el archivo `datos_municipales.db` que se publicó junto con este _noteebok_"
   ]
  },
  {
   "cell_type": "code",
   "execution_count": 2,
   "id": "5b8cf233-e594-4af8-87a0-ac209d9356e4",
   "metadata": {},
   "outputs": [
    {
     "name": "stdout",
     "output_type": "stream",
     "text": [
      "The sql extension is already loaded. To reload it, use:\n",
      "  %reload_ext sql\n"
     ]
    }
   ],
   "source": [
    "%load_ext sql\n",
    "\n",
    "# Nos conectamos a la base de datos datos_municipales.db\n",
    "%sql sqlite:///datos_municipales.db"
   ]
  },
  {
   "cell_type": "markdown",
   "id": "2e435332-7586-4664-984e-2487e9f89a34",
   "metadata": {},
   "source": [
    "Aquí vamos a trabajar con varias tablas:\n",
    "\n",
    "- `regiones`: tabla con las regiones de Chile.\n",
    "- `comunas`: tabla con las comunas de Chile, indicando a que región pertenecen.\n",
    "- `poblacion_comunal`: tabla con la población para cada comuna de Chile.\n",
    "- `areas_verdes_comunal`: tabla con los datos de las áreas verdes de las comunas de Chile. Estos datos son los metros cuadrados de plazas y parques en la comuna. Esta tabla contiene algunos campos nulos.\n",
    "- `presupuesto_comunal`: tabla con el presupuesto de las comunas de Chile.\n",
    "- `densidad_comunal`: tabla con las densidad de población (personas/$km^2$) de las comunas de Chile.\n",
    "\n",
    "\n",
    "Estos datos son datos reales recolectados por el Gobierno de Chile. Todas las mediciones son tomadas al 2019 - 2021 (dependiendo del dato). Para partir te recomendamos que selecciones los primeros registros de cada tabla para que sepas como se ven."
   ]
  },
  {
   "cell_type": "code",
   "execution_count": 54,
   "id": "52a2b081-c283-445f-8158-1b5328de8a7e",
   "metadata": {},
   "outputs": [
    {
     "name": "stdout",
     "output_type": "stream",
     "text": [
      " * sqlite:///datos_municipales.db\n",
      "Done.\n"
     ]
    },
    {
     "data": {
      "text/html": [
       "<table>\n",
       "    <tr>\n",
       "        <th>id_comuna</th>\n",
       "        <th>nombre_comuna</th>\n",
       "        <th>id_region</th>\n",
       "    </tr>\n",
       "    <tr>\n",
       "        <td>1101</td>\n",
       "        <td>Iquique</td>\n",
       "        <td>1</td>\n",
       "    </tr>\n",
       "    <tr>\n",
       "        <td>1107</td>\n",
       "        <td>Alto Hospicio</td>\n",
       "        <td>1</td>\n",
       "    </tr>\n",
       "    <tr>\n",
       "        <td>1401</td>\n",
       "        <td>Pozo Almonte</td>\n",
       "        <td>1</td>\n",
       "    </tr>\n",
       "    <tr>\n",
       "        <td>1402</td>\n",
       "        <td>Camiña</td>\n",
       "        <td>1</td>\n",
       "    </tr>\n",
       "    <tr>\n",
       "        <td>1403</td>\n",
       "        <td>Colchane</td>\n",
       "        <td>1</td>\n",
       "    </tr>\n",
       "    <tr>\n",
       "        <td>1404</td>\n",
       "        <td>Huara</td>\n",
       "        <td>1</td>\n",
       "    </tr>\n",
       "    <tr>\n",
       "        <td>1405</td>\n",
       "        <td>Pica</td>\n",
       "        <td>1</td>\n",
       "    </tr>\n",
       "    <tr>\n",
       "        <td>2101</td>\n",
       "        <td>Antofagasta</td>\n",
       "        <td>2</td>\n",
       "    </tr>\n",
       "    <tr>\n",
       "        <td>2102</td>\n",
       "        <td>Mejillones</td>\n",
       "        <td>2</td>\n",
       "    </tr>\n",
       "    <tr>\n",
       "        <td>2103</td>\n",
       "        <td>Sierra Gorda</td>\n",
       "        <td>2</td>\n",
       "    </tr>\n",
       "    <tr>\n",
       "        <td>2104</td>\n",
       "        <td>Taltal</td>\n",
       "        <td>2</td>\n",
       "    </tr>\n",
       "    <tr>\n",
       "        <td>2201</td>\n",
       "        <td>Calama</td>\n",
       "        <td>2</td>\n",
       "    </tr>\n",
       "    <tr>\n",
       "        <td>2202</td>\n",
       "        <td>Ollagüe</td>\n",
       "        <td>2</td>\n",
       "    </tr>\n",
       "    <tr>\n",
       "        <td>2203</td>\n",
       "        <td>San Pedro de Atacama</td>\n",
       "        <td>2</td>\n",
       "    </tr>\n",
       "    <tr>\n",
       "        <td>2301</td>\n",
       "        <td>Tocopilla</td>\n",
       "        <td>2</td>\n",
       "    </tr>\n",
       "    <tr>\n",
       "        <td>2302</td>\n",
       "        <td>María Elena</td>\n",
       "        <td>2</td>\n",
       "    </tr>\n",
       "    <tr>\n",
       "        <td>3101</td>\n",
       "        <td>Copiapó</td>\n",
       "        <td>3</td>\n",
       "    </tr>\n",
       "    <tr>\n",
       "        <td>3102</td>\n",
       "        <td>Caldera</td>\n",
       "        <td>3</td>\n",
       "    </tr>\n",
       "    <tr>\n",
       "        <td>3103</td>\n",
       "        <td>Tierra Amarilla</td>\n",
       "        <td>3</td>\n",
       "    </tr>\n",
       "    <tr>\n",
       "        <td>3201</td>\n",
       "        <td>Chañaral</td>\n",
       "        <td>3</td>\n",
       "    </tr>\n",
       "</table>"
      ],
      "text/plain": [
       "[(1101, 'Iquique', 1),\n",
       " (1107, 'Alto Hospicio', 1),\n",
       " (1401, 'Pozo Almonte', 1),\n",
       " (1402, 'Camiña', 1),\n",
       " (1403, 'Colchane', 1),\n",
       " (1404, 'Huara', 1),\n",
       " (1405, 'Pica', 1),\n",
       " (2101, 'Antofagasta', 2),\n",
       " (2102, 'Mejillones', 2),\n",
       " (2103, 'Sierra Gorda', 2),\n",
       " (2104, 'Taltal', 2),\n",
       " (2201, 'Calama', 2),\n",
       " (2202, 'Ollagüe', 2),\n",
       " (2203, 'San Pedro de Atacama', 2),\n",
       " (2301, 'Tocopilla', 2),\n",
       " (2302, 'María Elena', 2),\n",
       " (3101, 'Copiapó', 3),\n",
       " (3102, 'Caldera', 3),\n",
       " (3103, 'Tierra Amarilla', 3),\n",
       " (3201, 'Chañaral', 3)]"
      ]
     },
     "execution_count": 54,
     "metadata": {},
     "output_type": "execute_result"
    }
   ],
   "source": [
    "%%sql \n",
    "SELECT * FROM comunas LIMIT 20"
   ]
  },
  {
   "cell_type": "markdown",
   "id": "b140f696-9d86-4d4f-8252-96f4972a9268",
   "metadata": {},
   "source": [
    "Ahora partamos por algo sencillo. \n",
    "\n",
    "**Pregunta 01:** entrega cada nombre de comuna junto al nombre de la región correspondiente. Luego haz esto solamente para las comunas de la Región del Ñuble y la Región Metropolitana de Santiago."
   ]
  },
  {
   "cell_type": "code",
   "execution_count": 6,
   "id": "f8d1f1e2-2ac4-4370-aa68-62108820c746",
   "metadata": {},
   "outputs": [
    {
     "name": "stdout",
     "output_type": "stream",
     "text": [
      " * sqlite:///datos_municipales.db\n",
      "0 rows affected.\n"
     ]
    },
    {
     "data": {
      "text/plain": [
       "[]"
      ]
     },
     "execution_count": 6,
     "metadata": {},
     "output_type": "execute_result"
    }
   ],
   "source": [
    "%%sql\n",
    "-- Escribe tu consulta bajo esta línea"
   ]
  },
  {
   "cell_type": "markdown",
   "id": "d2924b16-734c-4371-84e7-a1fe99656e48",
   "metadata": {},
   "source": [
    "Ahora avancemos un poco más.\n",
    "\n",
    "**Pregunta 02**: para cada comuna, entrega el nombre de la región junto con la población de la comuna."
   ]
  },
  {
   "cell_type": "code",
   "execution_count": 7,
   "id": "aabee127-202e-44e6-83af-06e62a57deea",
   "metadata": {},
   "outputs": [
    {
     "name": "stdout",
     "output_type": "stream",
     "text": [
      " * sqlite:///datos_municipales.db\n",
      "0 rows affected.\n"
     ]
    },
    {
     "data": {
      "text/plain": [
       "[]"
      ]
     },
     "execution_count": 7,
     "metadata": {},
     "output_type": "execute_result"
    }
   ],
   "source": [
    "%%sql\n",
    "-- Escribe tu consulta bajo esta línea"
   ]
  },
  {
   "cell_type": "markdown",
   "id": "a2e2238b-68b6-425b-bdc9-5d3240a102ff",
   "metadata": {},
   "source": [
    "Sin embargo, es posible que haya comunas para los que no hay dato de población. Averigua para qué comunas no está el dato de la población."
   ]
  },
  {
   "cell_type": "code",
   "execution_count": 12,
   "id": "4ac86193-9f21-49d6-8b11-91fdc6024a2b",
   "metadata": {},
   "outputs": [
    {
     "name": "stdout",
     "output_type": "stream",
     "text": [
      " * sqlite:///datos_municipales.db\n",
      "0 rows affected.\n"
     ]
    },
    {
     "data": {
      "text/plain": [
       "[]"
      ]
     },
     "execution_count": 12,
     "metadata": {},
     "output_type": "execute_result"
    }
   ],
   "source": [
    "%%sql\n",
    "-- Escribe tu consulta bajo esta línea"
   ]
  },
  {
   "cell_type": "markdown",
   "id": "5f59cad9-8607-486a-a56e-ee788cafd530",
   "metadata": {},
   "source": [
    "Si descubriste para qué comuna no hay dato de población, te darás cuenta que podemos ignorarla. Ahora nos interesa obtener la población por región.\n",
    "\n",
    "**Pregunta 03**: entrega el id y nombre de cada región, junto a la población total en esa región."
   ]
  },
  {
   "cell_type": "code",
   "execution_count": 15,
   "id": "efd80c13-18c8-4ec0-b593-5e262684386f",
   "metadata": {},
   "outputs": [
    {
     "name": "stdout",
     "output_type": "stream",
     "text": [
      " * sqlite:///datos_municipales.db\n",
      "0 rows affected.\n"
     ]
    },
    {
     "data": {
      "text/plain": [
       "[]"
      ]
     },
     "execution_count": 15,
     "metadata": {},
     "output_type": "execute_result"
    }
   ],
   "source": [
    "%%sql\n",
    "-- Escribe tu consulta bajo esta línea"
   ]
  },
  {
   "cell_type": "markdown",
   "id": "805e965e-5133-4187-aa19-01b1766d5745",
   "metadata": {},
   "source": [
    "Ahora filtremos los valores de la consulta anterior.\n",
    "\n",
    "**Pregunta 04**: entrega el id, nombre de región y población para todas las regiones con más de 1.500.000 habitantes."
   ]
  },
  {
   "cell_type": "code",
   "execution_count": 28,
   "id": "7343f81e-250c-4a1d-859e-c1f1300381ea",
   "metadata": {},
   "outputs": [
    {
     "name": "stdout",
     "output_type": "stream",
     "text": [
      " * sqlite:///datos_municipales.db\n",
      "0 rows affected.\n"
     ]
    },
    {
     "data": {
      "text/plain": [
       "[]"
      ]
     },
     "execution_count": 28,
     "metadata": {},
     "output_type": "execute_result"
    }
   ],
   "source": [
    "%%sql\n",
    "-- Escribe tu consulta bajo esta línea"
   ]
  },
  {
   "cell_type": "markdown",
   "id": "dd1ecd05-4640-4234-9463-484d7be8204b",
   "metadata": {},
   "source": [
    "Ahora, al igual que para la tabla de población, puede pasar que hay comunas para las que no haya registro en las tablas:\n",
    "\n",
    "- areas_verdes_comunal\n",
    "- presupuesto_comunal\n",
    "- densidad_comunal\n",
    "\n",
    "Te invitamos a encontrar las columnas faltantes para cada tabla."
   ]
  },
  {
   "cell_type": "code",
   "execution_count": 34,
   "id": "10910d97-59f5-4264-9d0d-2f56e4bf1570",
   "metadata": {},
   "outputs": [
    {
     "name": "stdout",
     "output_type": "stream",
     "text": [
      " * sqlite:///datos_municipales.db\n",
      "0 rows affected.\n"
     ]
    },
    {
     "data": {
      "text/plain": [
       "[]"
      ]
     },
     "execution_count": 34,
     "metadata": {},
     "output_type": "execute_result"
    }
   ],
   "source": [
    "%%sql\n",
    "-- Escribe tu consulta bajo esta línea"
   ]
  },
  {
   "cell_type": "markdown",
   "id": "e3b80084-7aa0-423c-84bc-050c6eb5e835",
   "metadata": {},
   "source": [
    "Ahora queremos sacar un estimado de la superficie de cada comuna. Tenemos la densidad de población y su población, por lo que dividiendo la población en la densidad deberíamos obtener la superficie. Para partir, hagamos el join entre las comunas, la población y la densidad. ¡Pero ojo! Hay varias comunas que no tienen dato de densidad, pero aún así no las queremos perder.\n",
    "\n",
    "**Pregunta 05**: para cada comuna entrega su población y su densidad poblacional."
   ]
  },
  {
   "cell_type": "code",
   "execution_count": 38,
   "id": "fcece717-bd77-44c4-8a1e-10ff2a2cd4ed",
   "metadata": {},
   "outputs": [
    {
     "name": "stdout",
     "output_type": "stream",
     "text": [
      " * sqlite:///datos_municipales.db\n",
      "0 rows affected.\n"
     ]
    },
    {
     "data": {
      "text/plain": [
       "[]"
      ]
     },
     "execution_count": 38,
     "metadata": {},
     "output_type": "execute_result"
    }
   ],
   "source": [
    "%%sql\n",
    "-- Escribe tu consulta bajo esta línea"
   ]
  },
  {
   "cell_type": "markdown",
   "id": "f323cba2-579e-4910-b56f-32e0e8c4381a",
   "metadata": {},
   "source": [
    "Ahora calculemos el estimado de la superficie.\n",
    "\n",
    "**Pregunta 06**: para cada comuna, entrega su población, densidad poblacional y el estimado de la superficie."
   ]
  },
  {
   "cell_type": "code",
   "execution_count": 39,
   "id": "482eac4a-6c08-4b17-a59d-10b7200555f2",
   "metadata": {},
   "outputs": [
    {
     "name": "stdout",
     "output_type": "stream",
     "text": [
      " * sqlite:///datos_municipales.db\n",
      "0 rows affected.\n"
     ]
    },
    {
     "data": {
      "text/plain": [
       "[]"
      ]
     },
     "execution_count": 39,
     "metadata": {},
     "output_type": "execute_result"
    }
   ],
   "source": [
    "%%sql\n",
    "-- Escribe tu consulta bajo esta línea"
   ]
  },
  {
   "cell_type": "markdown",
   "id": "bb9b2d84-717c-4147-ab09-ea27a27d229b",
   "metadata": {},
   "source": [
    "Como verás, hay hartos valores que se indeterminan. ¿Puedes deducir por qué es?\n",
    "\n",
    "Finalmente, veamos los datos de metros de áreas verde, que incluyen la cantidad de metros de plaza y metros de parque por comuna. Primero, encuentra los valores nulos que hayan en la columna metros_plaza o metros_parque.\n",
    "\n",
    "**Hint**: para saber los nulos/no nulos de una columna puedes usar el filtro `columna IS NULL` o `columna IS NOT NULL`."
   ]
  },
  {
   "cell_type": "code",
   "execution_count": 45,
   "id": "21f17e07-702e-4bed-b099-3d42170fcbeb",
   "metadata": {},
   "outputs": [
    {
     "name": "stdout",
     "output_type": "stream",
     "text": [
      " * sqlite:///datos_municipales.db\n",
      "0 rows affected.\n"
     ]
    },
    {
     "data": {
      "text/plain": [
       "[]"
      ]
     },
     "execution_count": 45,
     "metadata": {},
     "output_type": "execute_result"
    }
   ],
   "source": [
    "%%sql\n",
    "-- Escribe tu consulta bajo esta línea"
   ]
  },
  {
   "cell_type": "markdown",
   "id": "aabaec94-b0ac-4f02-ad99-3eb5e9fc0997",
   "metadata": {},
   "source": [
    "Ahora busquemos los nombres de aquellas comunas:\n",
    "\n",
    "**Pregunta 07**: entrega el nombre de las comunas donde el valor de metros_plaza o metros_parque sea nulo."
   ]
  },
  {
   "cell_type": "code",
   "execution_count": 52,
   "id": "f3026a8d-6014-4053-9deb-42deacfd160b",
   "metadata": {},
   "outputs": [
    {
     "name": "stdout",
     "output_type": "stream",
     "text": [
      " * sqlite:///datos_municipales.db\n",
      "0 rows affected.\n"
     ]
    },
    {
     "data": {
      "text/plain": [
       "[]"
      ]
     },
     "execution_count": 52,
     "metadata": {},
     "output_type": "execute_result"
    }
   ],
   "source": [
    "%%sql\n",
    "-- Escribe tu consulta bajo esta línea"
   ]
  },
  {
   "cell_type": "markdown",
   "id": "28e80e66-2338-42a5-86d0-177af46ca8a6",
   "metadata": {},
   "source": [
    "Para finalizar, juguemos un poco con los presupuestos comunales.\n",
    "\n",
    "**Pregunta 08**: entrega el promedio de los presupuestos comunales por región. **Hint**: recuerda que tal como `SUM` hay una función `AVG`."
   ]
  },
  {
   "cell_type": "code",
   "execution_count": 53,
   "id": "233f0bb8-ec09-4aee-888e-938397ecbf61",
   "metadata": {},
   "outputs": [
    {
     "name": "stdout",
     "output_type": "stream",
     "text": [
      " * sqlite:///datos_municipales.db\n",
      "0 rows affected.\n"
     ]
    },
    {
     "data": {
      "text/plain": [
       "[]"
      ]
     },
     "execution_count": 53,
     "metadata": {},
     "output_type": "execute_result"
    }
   ],
   "source": [
    "%%sql\n",
    "-- Escribe tu consulta bajo esta línea"
   ]
  },
  {
   "cell_type": "markdown",
   "id": "979a92c4-493c-4c3d-b380-ba8fdb124983",
   "metadata": {},
   "source": [
    "Ahora estás listo para responder algunas preguntas más interesantes. Te dejo aquí una idea de 3 consultas propuestas de mayor dificultad."
   ]
  },
  {
   "cell_type": "markdown",
   "id": "0b96e227-a09b-4d58-ae8a-9075f1bd138d",
   "metadata": {},
   "source": [
    "**Pregunta 08**: entrega el nombre de las comunas para todas las regiones con más de 1.500.000 habitantes.\n",
    "\n",
    "**Pregunta 09**: entrega el nombre de todas las comunas que estén en el top 20 de comunas con más metros de plaza y en el top 20 de comunas con más presupuesto.\n",
    "\n",
    "**Pregunta 10**: con el estimado de la superficie obtenido anteriormente, calcula un estimado del total de la superficie por región."
   ]
  },
  {
   "cell_type": "code",
   "execution_count": null,
   "id": "7550288c-2609-4d2f-b420-8a8bdd47599e",
   "metadata": {},
   "outputs": [],
   "source": []
  }
 ],
 "metadata": {
  "kernelspec": {
   "display_name": "Python 3 (ipykernel)",
   "language": "python",
   "name": "python3"
  },
  "language_info": {
   "codemirror_mode": {
    "name": "ipython",
    "version": 3
   },
   "file_extension": ".py",
   "mimetype": "text/x-python",
   "name": "python",
   "nbconvert_exporter": "python",
   "pygments_lexer": "ipython3",
   "version": "3.9.9"
  }
 },
 "nbformat": 4,
 "nbformat_minor": 5
}
